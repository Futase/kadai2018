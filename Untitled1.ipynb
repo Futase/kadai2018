{
  "nbformat": 4,
  "nbformat_minor": 0,
  "metadata": {
    "colab": {
      "name": "Untitled1.ipynb",
      "version": "0.3.2",
      "provenance": [],
      "collapsed_sections": []
    }
  },
  "cells": [
    {
      "cell_type": "markdown",
      "metadata": {
        "id": "view-in-github",
        "colab_type": "text"
      },
      "source": [
        "[View in Colaboratory](https://colab.research.google.com/github/Futase/kadai2018/blob/master/Untitled1.ipynb)"
      ]
    },
    {
      "metadata": {
        "id": "lfg4T9utqypD",
        "colab_type": "code",
        "colab": {}
      },
      "cell_type": "code",
      "source": [
        "#@title\n",
        "from sklearn.model_selection import train_test_split\n",
        "from sklearn.preprocessing import StandardScaler\n",
        "from sklearn.linear_model import LogisticRegression\n",
        "from sklearn import datasets\n",
        "from sklearn.metrics import confusion_matrix\n",
        "import numpy as np\n",
        "from matplotlib.colors import ListedColormap\n",
        "import matplotlib.pyplot as plt\n"
      ],
      "execution_count": 0,
      "outputs": []
    },
    {
      "metadata": {
        "id": "OBi_2mWyqpf4",
        "colab_type": "code",
        "colab": {}
      },
      "cell_type": "code",
      "source": [
        "#@title\n",
        "\n",
        "def plot_decision_regions(X, y, classifier, test_idx=None, resolution=0.02):\n",
        "\n",
        "    # setup marker generator and color map\n",
        "    markers = ('s', 'x', 'o', '^', 'v')\n",
        "    colors = ('red', 'blue', 'lightgreen', 'gray', 'cyan')\n",
        "    cmap = ListedColormap(colors[:len(np.unique(y))])\n",
        "\n",
        "    # plot the decision surface\n",
        "    x1_min, x1_max = X[:, 0].min() - 1, X[:, 0].max() + 1\n",
        "    x2_min, x2_max = X[:, 1].min() - 1, X[:, 1].max() + 1\n",
        "    xx1, xx2 = np.meshgrid(np.arange(x1_min, x1_max, resolution),\n",
        "                           np.arange(x2_min, x2_max, resolution))\n",
        "    Z = classifier.predict(np.array([xx1.ravel(), xx2.ravel()]).T)\n",
        "    Z = Z.reshape(xx1.shape)\n",
        "    plt.contourf(xx1, xx2, Z, alpha=0.3, cmap=cmap)\n",
        "    plt.xlim(xx1.min(), xx1.max())\n",
        "    plt.ylim(xx2.min(), xx2.max())\n",
        "\n",
        "    for idx, cl in enumerate(np.unique(y)):\n",
        "        plt.scatter(x=X[y == cl, 0], \n",
        "                    y=X[y == cl, 1],\n",
        "                    alpha=0.8, \n",
        "                    c=colors[idx],\n",
        "                    marker=markers[idx], \n",
        "                    label=cl, \n",
        "                    edgecolor='black')\n",
        "\n",
        "    # highlight test samples\n",
        "    if test_idx:\n",
        "        # plot all samples\n",
        "        X_test, y_test = X[test_idx, :], y[test_idx]\n",
        "\n",
        "        plt.scatter(X_test[:, 0],\n",
        "                    X_test[:, 1],\n",
        "                    c='',\n",
        "                    edgecolor='black',\n",
        "                    alpha=1.0,\n",
        "                    linewidth=1,\n",
        "                    marker='o',\n",
        "                    s=100, \n",
        "label='test set')"
      ],
      "execution_count": 0,
      "outputs": []
    },
    {
      "metadata": {
        "id": "9Q9vgzz_rWOR",
        "colab_type": "code",
        "colab": {}
      },
      "cell_type": "code",
      "source": [
        "#@title\n",
        "# prepare dataset\n",
        "iris = datasets.load_iris()\n",
        "X = iris.data[:,[2,3]]\n",
        "y= iris.target\n",
        "X_train, X_test, y_train, y_test = train_test_split(\n",
        "    X, y, test_size=0.3, random_state=1, stratify=y)\n",
        "\n",
        "# standarization\n",
        "sc = StandardScaler()\n",
        "sc.fit(X_train)\n",
        "X_train_std = sc.transform(X_train)\n",
        "X_test_std = sc.transform(X_test)\n",
        "\n",
        "# generate model\n",
        "lr = LogisticRegression(C=100.0,random_state=1)\n",
        "lr.fit(X_train_std,y_train)\n",
        "\n",
        "# display output\n",
        "X_combined_std = np.vstack((X_train_std, X_test_std))\n",
        "y_combined = np.hstack((y_train, y_test))\n",
        "plot_decision_regions(X_combined_std, y_combined, classifier=lr, test_idx=range(105,150))\n",
        "plt.xlabel('petal_length [standarized]')\n",
        "plt.ylabel('petal_length [standarized]')\n",
        "plt.legend(loc='upper left')\n",
        "plt.tight_layout()\n",
        "plt.show()"
      ],
      "execution_count": 0,
      "outputs": []
    },
    {
      "metadata": {
        "id": "YNPdrBXax7uW",
        "colab_type": "code",
        "colab": {}
      },
      "cell_type": "code",
      "source": [
        "#@title\n",
        "########################################################2\n",
        "# display probability\n",
        "X_pred = lr.predict_proba(X_test_std[:,:])\n",
        "print(X_pred)"
      ],
      "execution_count": 0,
      "outputs": []
    },
    {
      "metadata": {
        "id": "Mbdc4AALycku",
        "colab_type": "code",
        "colab": {}
      },
      "cell_type": "code",
      "source": [
        "###################################3\n",
        "#from sklearn.metrics import confusion_matrix\n",
        "arg = []\n",
        "for line in X_pred:\n",
        "  arg.append(int(np.argmax(line)))\n",
        "print(arg)\n",
        "confusion_matrix(y_test,arg)"
      ],
      "execution_count": 0,
      "outputs": []
    },
    {
      "metadata": {
        "id": "wKCXW7T_82WQ",
        "colab_type": "code",
        "colab": {
          "base_uri": "https://localhost:8080/",
          "height": 364
        },
        "outputId": "e3c02388-6d04-4005-da30-7a4756d9a279"
      },
      "cell_type": "code",
      "source": [
        "##################################4\n",
        "weights, params = [], []\n",
        "for c in np.arange(-5, 5):\n",
        "    lr = LogisticRegression(C=10.**c, random_state=1)\n",
        "    lr.fit(X_train_std, y_train)\n",
        "    weights.append(lr.coef_[1])\n",
        "    params.append(10.**c)\n",
        "\n",
        "weights = np.array(weights)\n",
        "plt.plot(params, weights[:, 0],\n",
        "         label='petal length')\n",
        "plt.plot(params, weights[:, 1], linestyle='--',\n",
        "         label='petal width')\n",
        "plt.ylabel('weight coefficient')\n",
        "plt.xlabel('C')\n",
        "plt.legend(loc='upper left')\n",
        "plt.xscale('log')\n",
        "#plt.savefig('images/03_08.png', dpi=300)\n",
        "plt.show()"
      ],
      "execution_count": 44,
      "outputs": [
        {
          "output_type": "display_data",
          "data": {
            "image/png": "[encoded data removed]",
            "text/plain": [
              "<matplotlib.figure.Figure at 0x7f8582637210>"
            ]
          },
          "metadata": {
            "tags": []
          }
        }
      ]
    }
  ]
}